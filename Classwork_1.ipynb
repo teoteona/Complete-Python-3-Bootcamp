{
  "nbformat": 4,
  "nbformat_minor": 0,
  "metadata": {
    "colab": {
      "name": "Classwork 1.ipynb",
      "provenance": [],
      "include_colab_link": true
    },
    "kernelspec": {
      "name": "python3",
      "display_name": "Python 3"
    }
  },
  "cells": [
    {
      "cell_type": "markdown",
      "metadata": {
        "id": "view-in-github",
        "colab_type": "text"
      },
      "source": [
        "<a href=\"https://colab.research.google.com/github/teoteona/Complete-Python-3-Bootcamp/blob/master/Classwork_1.ipynb\" target=\"_parent\"><img src=\"https://colab.research.google.com/assets/colab-badge.svg\" alt=\"Open In Colab\"/></a>"
      ]
    },
    {
      "cell_type": "markdown",
      "metadata": {
        "id": "So2Ev6FdzaZk",
        "colab_type": "text"
      },
      "source": [
        "#Functions – print()"
      ]
    },
    {
      "cell_type": "code",
      "metadata": {
        "id": "ls7bww92zgAZ",
        "colab_type": "code",
        "outputId": "9469fece-7e6b-46a8-fb32-0e7b94a1ebfa",
        "colab": {
          "base_uri": "https://localhost:8080/",
          "height": 34
        }
      },
      "source": [
        "print(\"I had a great day!\")"
      ],
      "execution_count": 0,
      "outputs": [
        {
          "output_type": "stream",
          "text": [
            "I had a great day!\n"
          ],
          "name": "stdout"
        }
      ]
    },
    {
      "cell_type": "markdown",
      "metadata": {
        "id": "_QzHV4lzzipR",
        "colab_type": "text"
      },
      "source": [
        "#Variables \n",
        "\n",
        "* Названия переменных могут состоять только из букв, цифр и нижних подчеркиваний. \n",
        "\n",
        "* Переменные не могут начинаться с цифры.\n",
        "\n",
        "* Заглавные буквы не равны строчным.\n",
        "\n",
        "* Не могут содержать пробелы\n"
      ]
    },
    {
      "cell_type": "code",
      "metadata": {
        "id": "-kJ7sRyXw45x",
        "colab_type": "code",
        "colab": {}
      },
      "source": [
        ""
      ],
      "execution_count": 0,
      "outputs": []
    },
    {
      "cell_type": "markdown",
      "metadata": {
        "id": "9G84FBjCwEkL",
        "colab_type": "text"
      },
      "source": [
        "# Reserved Words\n",
        "\n",
        "Слова, которые нельзя использовать для обозначения переменных."
      ]
    },
    {
      "cell_type": "code",
      "metadata": {
        "id": "_UiKmutiwSRh",
        "colab_type": "code",
        "colab": {}
      },
      "source": [
        "False     assert     break      class     from      def          del\n",
        "None      and        return     global    try      import        if                \n",
        "True      while      lambda      is       not       or           pass    \n",
        "raise     finally    continue   yield     as     nonlocal        with "
      ],
      "execution_count": 0,
      "outputs": []
    },
    {
      "cell_type": "markdown",
      "metadata": {
        "id": "rwICuQimyVlR",
        "colab_type": "text"
      },
      "source": [
        "# Типы данных\n",
        "\n",
        "* String - str\n",
        "* Integer - int\n",
        "* Float - float\n",
        "* Boolean - bool"
      ]
    },
    {
      "cell_type": "markdown",
      "metadata": {
        "id": "0SBQWR2IykiO",
        "colab_type": "text"
      },
      "source": [
        ""
      ]
    },
    {
      "cell_type": "markdown",
      "metadata": {
        "id": "svrZOWriyDAd",
        "colab_type": "text"
      },
      "source": [
        "# Oператоры\n"
      ]
    },
    {
      "cell_type": "markdown",
      "metadata": {
        "id": "LYLc1c8jDHyS",
        "colab_type": "text"
      },
      "source": [
        "# Коментарии"
      ]
    },
    {
      "cell_type": "markdown",
      "metadata": {
        "id": "nXEe6zytyFZ9",
        "colab_type": "text"
      },
      "source": [
        "# Ввод данных\n"
      ]
    },
    {
      "cell_type": "markdown",
      "metadata": {
        "id": "3E_Q6yivG1XY",
        "colab_type": "text"
      },
      "source": [
        "# Задача № 1!\n",
        "\n",
        "Решить линейное уравнение: *ax + b = 0*\n",
        "\n"
      ]
    }
  ]
}