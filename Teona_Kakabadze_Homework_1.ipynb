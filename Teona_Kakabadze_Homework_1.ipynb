{
  "nbformat": 4,
  "nbformat_minor": 0,
  "metadata": {
    "colab": {
      "name": "Teona Kakabadze - Homework 1.ipynb",
      "provenance": [],
      "collapsed_sections": [],
      "include_colab_link": true
    },
    "kernelspec": {
      "name": "python3",
      "display_name": "Python 3"
    }
  },
  "cells": [
    {
      "cell_type": "markdown",
      "metadata": {
        "id": "view-in-github",
        "colab_type": "text"
      },
      "source": [
        "<a href=\"https://colab.research.google.com/github/teoteona/Complete-Python-3-Bootcamp/blob/master/Teona_Kakabadze_Homework_1.ipynb\" target=\"_parent\"><img src=\"https://colab.research.google.com/assets/colab-badge.svg\" alt=\"Open In Colab\"/></a>"
      ]
    },
    {
      "cell_type": "markdown",
      "metadata": {
        "id": "CmNut0CzrHYM",
        "colab_type": "text"
      },
      "source": [
        "#0. Hello, User!\n",
        "\n",
        "Программа спрашивает имя пользователя через input, записывает его в переменную username, а затем используя эту переменную выводит приветсвие \"Hello, **username**!\".\n",
        "\n",
        "\n"
      ]
    },
    {
      "cell_type": "code",
      "metadata": {
        "id": "HFau7PsJrava",
        "colab_type": "code",
        "outputId": "64303fcc-722b-4ca4-83df-19c2f2ec0f49",
        "colab": {
          "base_uri": "https://localhost:8080/",
          "height": 34
        }
      },
      "source": [
        "print(\"Hello PASV Team!\")"
      ],
      "execution_count": 1,
      "outputs": [
        {
          "output_type": "stream",
          "text": [
            "Hello PASV Team!\n"
          ],
          "name": "stdout"
        }
      ]
    },
    {
      "cell_type": "markdown",
      "metadata": {
        "id": "-Mw3Q486m6KB",
        "colab_type": "text"
      },
      "source": [
        "# 1. Переведите футы в метры \n",
        "\n",
        "* Один фут - 0.3048 метра\n",
        "\n",
        "\n",
        "Пример программы:\n",
        "\n",
        "```\n",
        "How many feet? 200\n",
        "It's 60.96 meters!\n",
        "```\n",
        "\n"
      ]
    },
    {
      "cell_type": "code",
      "metadata": {
        "id": "mTMtJlSoohTF",
        "colab_type": "code",
        "colab": {
          "base_uri": "https://localhost:8080/",
          "height": 51
        },
        "outputId": "32e8adb3-ff88-4d63-d4c7-b76157586376"
      },
      "source": [
        "meter = float(0.3048)\n",
        "ask_feet = input(\"How many feet?\")\n",
        "result = (meter * float(ask_feet))\n",
        "print(\"it's \" + str(result) + \" meters\")"
      ],
      "execution_count": 3,
      "outputs": [
        {
          "output_type": "stream",
          "text": [
            "How many feet?200\n",
            "it's 60.96 meters\n"
          ],
          "name": "stdout"
        }
      ]
    },
    {
      "cell_type": "markdown",
      "metadata": {
        "id": "eyyWtJdKsSlv",
        "colab_type": "text"
      },
      "source": [
        "#2. Miles per gallon of your car\n",
        "\n",
        "Создайте программу которая бы спрашивала у пользователя \"How many miles?\", затем \"How many gallons?\" и в конце возвращала mpg. \n",
        "\n",
        "\n",
        "Пример:\n",
        "```\n",
        "How many miles?  312\n",
        "How many gallons? 16\n",
        "\"Okay, the mpg of your car is 19.5!\"\n",
        "```\n"
      ]
    },
    {
      "cell_type": "code",
      "metadata": {
        "id": "ZTrn9gNNrd6e",
        "colab_type": "code",
        "colab": {
          "base_uri": "https://localhost:8080/",
          "height": 68
        },
        "outputId": "669a6874-9a7c-4d18-b188-df35f6376558"
      },
      "source": [
        "question1 = int(input(\"How many miles? \"))\n",
        "question2 = int(input(\"How many gallons? \"))\n",
        "solution = question1 / question2\n",
        "#reply=\"Okay, the mpg of your car is \"\n",
        "\n",
        "print(\"Okay, the mpg of your car is \", solution)"
      ],
      "execution_count": 5,
      "outputs": [
        {
          "output_type": "stream",
          "text": [
            "How many miles? 312\n",
            "How many gallons? 16\n",
            "Okay, the mpg of your car is  19.5\n"
          ],
          "name": "stdout"
        }
      ]
    },
    {
      "cell_type": "markdown",
      "metadata": {
        "id": "WWUddlD-pyH4",
        "colab_type": "text"
      },
      "source": [
        "# 3. Перевод градусов цельсий в фарангейт\n",
        "\n",
        "Создайте программу, которая бы спрашивала у пользователя через input() количество градусов цельсий на ввод, и затем печатала количество градусов в фарангейт. Результат округлите с помощью функции round()\n",
        "\n",
        "\n"
      ]
    },
    {
      "cell_type": "code",
      "metadata": {
        "id": "3L47-mHxy6gf",
        "colab_type": "code",
        "colab": {
          "base_uri": "https://localhost:8080/",
          "height": 51
        },
        "outputId": "a3e70f04-d3c4-4e09-d729-39adcd56d776"
      },
      "source": [
        "question_c = int(input(\"How much degree celsius is it now? \" ))\n",
        "reply_f = int((question_c) * 9/5 + 32)\n",
        "round(reply_f)\n",
        "print(\"In Farenheit it is \", reply_f)"
      ],
      "execution_count": 6,
      "outputs": [
        {
          "output_type": "stream",
          "text": [
            "How much degree celsius is it now? 20\n",
            "In Farenheit it is  68\n"
          ],
          "name": "stdout"
        }
      ]
    },
    {
      "cell_type": "markdown",
      "metadata": {
        "id": "evAndkIkqTRz",
        "colab_type": "text"
      },
      "source": [
        "# 4. Перевод градусов фарангейт в цельсий\n",
        "\n",
        "Создайте программу, которая бы спрашивала у пользователя через input() количество градусов фарангейт на ввод, и затем печатала количество градусов цельсий. Результат округлите с помощью функции round()\n"
      ]
    },
    {
      "cell_type": "code",
      "metadata": {
        "id": "7VPJjVDCsQuk",
        "colab_type": "code",
        "colab": {
          "base_uri": "https://localhost:8080/",
          "height": 51
        },
        "outputId": "1e21a2bc-231c-4046-ea51-7c073f839499"
      },
      "source": [
        "question_f = int(input(\"How much degree farenheit is it now? \" ))\n",
        "reply_c = int((question_f-32)*5/9)\n",
        "round(reply_c)\n",
        "print(\"In celsius it is \", reply_c)"
      ],
      "execution_count": 7,
      "outputs": [
        {
          "output_type": "stream",
          "text": [
            "How much degree farenheit is it now? 70\n",
            "In celsius it is  21\n"
          ],
          "name": "stdout"
        }
      ]
    }
  ]
}